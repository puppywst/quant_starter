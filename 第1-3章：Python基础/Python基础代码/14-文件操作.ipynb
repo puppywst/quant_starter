{
 "cells": [
  {
   "cell_type": "code",
   "execution_count": 2,
   "metadata": {
    "collapsed": false
   },
   "outputs": [
    {
     "name": "stdout",
     "output_type": "stream",
     "text": [
      "Writing tang.txt\n"
     ]
    }
   ],
   "source": [
    "%%writefile tang.txt\n",
    "hello python\n",
    "tang yu di\n",
    "jin tian tian qi bu cuo"
   ]
  },
  {
   "cell_type": "code",
   "execution_count": 14,
   "metadata": {
    "collapsed": false
   },
   "outputs": [],
   "source": [
    "txt = open('./data/tang.txt')"
   ]
  },
  {
   "cell_type": "code",
   "execution_count": 8,
   "metadata": {
    "collapsed": false
   },
   "outputs": [
    {
     "name": "stdout",
     "output_type": "stream",
     "text": [
      "hello python\n",
      "tang yu di\n",
      "jin tian tian qi bu cuo\n"
     ]
    }
   ],
   "source": [
    "txt_read = txt.read()\n",
    "print (txt_read)"
   ]
  },
  {
   "cell_type": "code",
   "execution_count": 15,
   "metadata": {
    "collapsed": false
   },
   "outputs": [
    {
     "name": "stdout",
     "output_type": "stream",
     "text": [
      "<class 'list'>\n",
      "['hello python\\n', 'tang yu di\\n', 'jin tian tian qi bu cuo']\n"
     ]
    }
   ],
   "source": [
    "lines = txt.readlines()\n",
    "print (type(lines))\n",
    "print (lines)"
   ]
  },
  {
   "cell_type": "code",
   "execution_count": 16,
   "metadata": {
    "collapsed": false
   },
   "outputs": [
    {
     "name": "stdout",
     "output_type": "stream",
     "text": [
      "cur_line: hello python\n",
      "\n",
      "cur_line: tang yu di\n",
      "\n",
      "cur_line: jin tian tian qi bu cuo\n"
     ]
    }
   ],
   "source": [
    "for line in lines:\n",
    "    print ('cur_line:',line)"
   ]
  },
  {
   "cell_type": "code",
   "execution_count": 17,
   "metadata": {
    "collapsed": true
   },
   "outputs": [],
   "source": [
    "txt.close()"
   ]
  },
  {
   "cell_type": "code",
   "execution_count": 19,
   "metadata": {
    "collapsed": true
   },
   "outputs": [],
   "source": [
    "txt = open('tang_write.txt','w')\n",
    "txt.write('jin tian tian qi bu cuo')\n",
    "txt.write('\\n')\n",
    "txt.write('tang yu di')\n",
    "txt.close()"
   ]
  },
  {
   "cell_type": "code",
   "execution_count": 20,
   "metadata": {
    "collapsed": true
   },
   "outputs": [],
   "source": [
    "txt = open('tang_write.txt','w')\n",
    "txt.write('123')\n",
    "txt.write('\\n')\n",
    "txt.write('456')\n",
    "txt.close()"
   ]
  },
  {
   "cell_type": "code",
   "execution_count": 21,
   "metadata": {
    "collapsed": true
   },
   "outputs": [],
   "source": [
    "txt = open('tang_write.txt','a')\n",
    "txt.write('tangyudi')\n",
    "txt.write('\\n')\n",
    "txt.write('789678657')\n",
    "txt.close()"
   ]
  },
  {
   "cell_type": "code",
   "execution_count": 23,
   "metadata": {
    "collapsed": false
   },
   "outputs": [
    {
     "name": "stdout",
     "output_type": "stream",
     "text": [
      "\n"
     ]
    }
   ],
   "source": [
    "txt = open('tang_write.txt','w')\n",
    "for i in range(100):\n",
    "    txt.write(str(i)+'\\n')\n",
    "txt2 = open('tang_write.txt','r')\n",
    "print (txt2.read())"
   ]
  },
  {
   "cell_type": "code",
   "execution_count": 25,
   "metadata": {
    "collapsed": false
   },
   "outputs": [
    {
     "name": "stdout",
     "output_type": "stream",
     "text": [
      "0\n",
      "1\n",
      "2\n",
      "3\n",
      "4\n",
      "\n"
     ]
    }
   ],
   "source": [
    "txt = open('tang_write.txt','w')\n",
    "for i in range(5):\n",
    "    txt.write(str(i)+'\\n')\n",
    "txt.close()\n",
    "txt2 = open('tang_write.txt','r')\n",
    "print (txt2.read())"
   ]
  },
  {
   "cell_type": "code",
   "execution_count": 32,
   "metadata": {
    "collapsed": false
   },
   "outputs": [
    {
     "name": "stdout",
     "output_type": "stream",
     "text": [
      "error: 50\n"
     ]
    }
   ],
   "source": [
    "txt = open('tang_write.txt','w')\n",
    "try:\n",
    "    for i in range(100):\n",
    "        10/(i-50)\n",
    "        txt.write(str(i)+'\\n')\n",
    "except Exception:\n",
    "    print ('error:',i)\n",
    "finally:\n",
    "    txt.close()"
   ]
  },
  {
   "cell_type": "code",
   "execution_count": 33,
   "metadata": {
    "collapsed": true
   },
   "outputs": [],
   "source": [
    "with open('tang_write.txt','w') as f:\n",
    "    f.write('jin tian tian qi bu cuo')"
   ]
  },
  {
   "cell_type": "code",
   "execution_count": null,
   "metadata": {
    "collapsed": true
   },
   "outputs": [],
   "source": []
  }
 ],
 "metadata": {
  "anaconda-cloud": {},
  "kernelspec": {
   "display_name": "Python 3",
   "language": "python",
   "name": "python3"
  },
  "language_info": {
   "codemirror_mode": {
    "name": "ipython",
    "version": 3
   },
   "file_extension": ".py",
   "mimetype": "text/x-python",
   "name": "python",
   "nbconvert_exporter": "python",
   "pygments_lexer": "ipython3",
   "version": "3.5.2"
  }
 },
 "nbformat": 4,
 "nbformat_minor": 1
}
