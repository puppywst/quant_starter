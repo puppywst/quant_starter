{
 "cells": [
  {
   "cell_type": "markdown",
   "metadata": {},
   "source": [
    "### 安装tushare\n",
    "- 参考官网：https://tushare.pro/document/1\n",
    "- pip install tushare，需要的依赖全部自动安装"
   ]
  },
  {
   "cell_type": "markdown",
   "metadata": {},
   "source": [
    "## 注册\n",
    "链接：https://tushare.pro/register?reg=353020"
   ]
  },
  {
   "cell_type": "code",
   "execution_count": 4,
   "metadata": {},
   "outputs": [
    {
     "name": "stdout",
     "output_type": "stream",
     "text": [
      "1.3.9\n"
     ]
    }
   ],
   "source": [
    "import warnings\n",
    "warnings.filterwarnings(\"ignore\")\n",
    "\n",
    "import tushare as ts\n",
    "print(ts.__version__)"
   ]
  },
  {
   "cell_type": "markdown",
   "metadata": {},
   "source": [
    "### 这个是token"
   ]
  },
  {
   "cell_type": "code",
   "execution_count": 5,
   "metadata": {
    "collapsed": true
   },
   "outputs": [],
   "source": [
    "token = 'f51bc1209389d9ba0d671689478db838d0e903f3c45e3734438612e9'"
   ]
  },
  {
   "cell_type": "markdown",
   "metadata": {},
   "source": [
    "设置好token"
   ]
  },
  {
   "cell_type": "code",
   "execution_count": 6,
   "metadata": {
    "collapsed": true
   },
   "outputs": [],
   "source": [
    "ts.set_token(token)"
   ]
  },
  {
   "cell_type": "code",
   "execution_count": 7,
   "metadata": {
    "collapsed": true
   },
   "outputs": [],
   "source": [
    "pro = ts.pro_api()"
   ]
  },
  {
   "cell_type": "markdown",
   "metadata": {},
   "source": [
    "### 获取指数"
   ]
  },
  {
   "cell_type": "code",
   "execution_count": 8,
   "metadata": {},
   "outputs": [
    {
     "data": {
      "text/html": [
       "<div>\n",
       "<style scoped>\n",
       "    .dataframe tbody tr th:only-of-type {\n",
       "        vertical-align: middle;\n",
       "    }\n",
       "\n",
       "    .dataframe tbody tr th {\n",
       "        vertical-align: top;\n",
       "    }\n",
       "\n",
       "    .dataframe thead th {\n",
       "        text-align: right;\n",
       "    }\n",
       "</style>\n",
       "<table border=\"1\" class=\"dataframe\">\n",
       "  <thead>\n",
       "    <tr style=\"text-align: right;\">\n",
       "      <th></th>\n",
       "      <th>ts_code</th>\n",
       "      <th>name</th>\n",
       "      <th>market</th>\n",
       "      <th>publisher</th>\n",
       "      <th>category</th>\n",
       "      <th>base_date</th>\n",
       "      <th>base_point</th>\n",
       "      <th>list_date</th>\n",
       "    </tr>\n",
       "  </thead>\n",
       "  <tbody>\n",
       "    <tr>\n",
       "      <th>0</th>\n",
       "      <td>000001.SH</td>\n",
       "      <td>上证指数</td>\n",
       "      <td>SSE</td>\n",
       "      <td>中证指数有限公司</td>\n",
       "      <td>综合指数</td>\n",
       "      <td>19901219</td>\n",
       "      <td>100.00</td>\n",
       "      <td>19910715</td>\n",
       "    </tr>\n",
       "    <tr>\n",
       "      <th>1</th>\n",
       "      <td>000001CNY01.SH</td>\n",
       "      <td>上证指数全收益</td>\n",
       "      <td>SSE</td>\n",
       "      <td>中证指数有限公司</td>\n",
       "      <td>综合指数</td>\n",
       "      <td>20200721</td>\n",
       "      <td>3320.89</td>\n",
       "      <td>20201009</td>\n",
       "    </tr>\n",
       "    <tr>\n",
       "      <th>2</th>\n",
       "      <td>000002.SH</td>\n",
       "      <td>A股指数</td>\n",
       "      <td>SSE</td>\n",
       "      <td>中证指数有限公司</td>\n",
       "      <td>规模指数</td>\n",
       "      <td>19901219</td>\n",
       "      <td>100.00</td>\n",
       "      <td>19920221</td>\n",
       "    </tr>\n",
       "    <tr>\n",
       "      <th>3</th>\n",
       "      <td>000003.SH</td>\n",
       "      <td>B股指数</td>\n",
       "      <td>SSE</td>\n",
       "      <td>中证指数有限公司</td>\n",
       "      <td>规模指数</td>\n",
       "      <td>19920221</td>\n",
       "      <td>100.00</td>\n",
       "      <td>19920817</td>\n",
       "    </tr>\n",
       "    <tr>\n",
       "      <th>4</th>\n",
       "      <td>000004.SH</td>\n",
       "      <td>工业指数</td>\n",
       "      <td>SSE</td>\n",
       "      <td>中证指数有限公司</td>\n",
       "      <td>行业指数</td>\n",
       "      <td>19930430</td>\n",
       "      <td>1358.78</td>\n",
       "      <td>19930503</td>\n",
       "    </tr>\n",
       "  </tbody>\n",
       "</table>\n",
       "</div>"
      ],
      "text/plain": [
       "          ts_code     name market publisher category base_date  base_point  \\\n",
       "0       000001.SH     上证指数    SSE  中证指数有限公司     综合指数  19901219      100.00   \n",
       "1  000001CNY01.SH  上证指数全收益    SSE  中证指数有限公司     综合指数  20200721     3320.89   \n",
       "2       000002.SH     A股指数    SSE  中证指数有限公司     规模指数  19901219      100.00   \n",
       "3       000003.SH     B股指数    SSE  中证指数有限公司     规模指数  19920221      100.00   \n",
       "4       000004.SH     工业指数    SSE  中证指数有限公司     行业指数  19930430     1358.78   \n",
       "\n",
       "  list_date  \n",
       "0  19910715  \n",
       "1  20201009  \n",
       "2  19920221  \n",
       "3  19920817  \n",
       "4  19930503  "
      ]
     },
     "execution_count": 8,
     "metadata": {},
     "output_type": "execute_result"
    }
   ],
   "source": [
    "pro.index_basic(market = 'SSE').head()"
   ]
  },
  {
   "cell_type": "markdown",
   "metadata": {},
   "source": [
    "指数信息"
   ]
  },
  {
   "cell_type": "code",
   "execution_count": 9,
   "metadata": {},
   "outputs": [
    {
     "data": {
      "text/html": [
       "<div>\n",
       "<style scoped>\n",
       "    .dataframe tbody tr th:only-of-type {\n",
       "        vertical-align: middle;\n",
       "    }\n",
       "\n",
       "    .dataframe tbody tr th {\n",
       "        vertical-align: top;\n",
       "    }\n",
       "\n",
       "    .dataframe thead th {\n",
       "        text-align: right;\n",
       "    }\n",
       "</style>\n",
       "<table border=\"1\" class=\"dataframe\">\n",
       "  <thead>\n",
       "    <tr style=\"text-align: right;\">\n",
       "      <th></th>\n",
       "      <th>ts_code</th>\n",
       "      <th>trade_date</th>\n",
       "      <th>close</th>\n",
       "      <th>open</th>\n",
       "      <th>high</th>\n",
       "      <th>low</th>\n",
       "      <th>pre_close</th>\n",
       "      <th>change</th>\n",
       "      <th>pct_chg</th>\n",
       "      <th>vol</th>\n",
       "      <th>amount</th>\n",
       "    </tr>\n",
       "  </thead>\n",
       "  <tbody>\n",
       "    <tr>\n",
       "      <th>0</th>\n",
       "      <td>000001.SH</td>\n",
       "      <td>20240227</td>\n",
       "      <td>3015.4807</td>\n",
       "      <td>2966.4166</td>\n",
       "      <td>3015.4807</td>\n",
       "      <td>2961.1479</td>\n",
       "      <td>2977.0221</td>\n",
       "      <td>38.4586</td>\n",
       "      <td>1.2918</td>\n",
       "      <td>372984687.0</td>\n",
       "      <td>412614978.5</td>\n",
       "    </tr>\n",
       "    <tr>\n",
       "      <th>1</th>\n",
       "      <td>000001.SH</td>\n",
       "      <td>20240226</td>\n",
       "      <td>2977.0221</td>\n",
       "      <td>3002.1179</td>\n",
       "      <td>3009.4790</td>\n",
       "      <td>2967.0571</td>\n",
       "      <td>3004.8810</td>\n",
       "      <td>-27.8589</td>\n",
       "      <td>-0.9271</td>\n",
       "      <td>409026558.0</td>\n",
       "      <td>427564895.8</td>\n",
       "    </tr>\n",
       "    <tr>\n",
       "      <th>2</th>\n",
       "      <td>000001.SH</td>\n",
       "      <td>20240223</td>\n",
       "      <td>3004.8810</td>\n",
       "      <td>2992.9115</td>\n",
       "      <td>3009.1359</td>\n",
       "      <td>2979.9728</td>\n",
       "      <td>2988.3578</td>\n",
       "      <td>16.5232</td>\n",
       "      <td>0.5529</td>\n",
       "      <td>380083270.0</td>\n",
       "      <td>398232220.7</td>\n",
       "    </tr>\n",
       "    <tr>\n",
       "      <th>3</th>\n",
       "      <td>000001.SH</td>\n",
       "      <td>20240222</td>\n",
       "      <td>2988.3578</td>\n",
       "      <td>2945.4465</td>\n",
       "      <td>2988.3578</td>\n",
       "      <td>2944.4988</td>\n",
       "      <td>2950.9556</td>\n",
       "      <td>37.4022</td>\n",
       "      <td>1.2675</td>\n",
       "      <td>354132536.0</td>\n",
       "      <td>365264217.9</td>\n",
       "    </tr>\n",
       "    <tr>\n",
       "      <th>4</th>\n",
       "      <td>000001.SH</td>\n",
       "      <td>20240221</td>\n",
       "      <td>2950.9556</td>\n",
       "      <td>2906.0243</td>\n",
       "      <td>2994.6149</td>\n",
       "      <td>2898.0496</td>\n",
       "      <td>2922.7302</td>\n",
       "      <td>28.2254</td>\n",
       "      <td>0.9657</td>\n",
       "      <td>444245463.0</td>\n",
       "      <td>450922050.7</td>\n",
       "    </tr>\n",
       "  </tbody>\n",
       "</table>\n",
       "</div>"
      ],
      "text/plain": [
       "     ts_code trade_date      close       open       high        low  \\\n",
       "0  000001.SH   20240227  3015.4807  2966.4166  3015.4807  2961.1479   \n",
       "1  000001.SH   20240226  2977.0221  3002.1179  3009.4790  2967.0571   \n",
       "2  000001.SH   20240223  3004.8810  2992.9115  3009.1359  2979.9728   \n",
       "3  000001.SH   20240222  2988.3578  2945.4465  2988.3578  2944.4988   \n",
       "4  000001.SH   20240221  2950.9556  2906.0243  2994.6149  2898.0496   \n",
       "\n",
       "   pre_close   change  pct_chg          vol       amount  \n",
       "0  2977.0221  38.4586   1.2918  372984687.0  412614978.5  \n",
       "1  3004.8810 -27.8589  -0.9271  409026558.0  427564895.8  \n",
       "2  2988.3578  16.5232   0.5529  380083270.0  398232220.7  \n",
       "3  2950.9556  37.4022   1.2675  354132536.0  365264217.9  \n",
       "4  2922.7302  28.2254   0.9657  444245463.0  450922050.7  "
      ]
     },
     "execution_count": 9,
     "metadata": {},
     "output_type": "execute_result"
    }
   ],
   "source": [
    "pro.index_daily(ts_code='000001.SH').head()"
   ]
  },
  {
   "cell_type": "markdown",
   "metadata": {},
   "source": [
    "### 获取股票"
   ]
  },
  {
   "cell_type": "markdown",
   "metadata": {},
   "source": [
    "指定好交易所ID"
   ]
  },
  {
   "cell_type": "code",
   "execution_count": 10,
   "metadata": {},
   "outputs": [
    {
     "data": {
      "text/html": [
       "<div>\n",
       "<style scoped>\n",
       "    .dataframe tbody tr th:only-of-type {\n",
       "        vertical-align: middle;\n",
       "    }\n",
       "\n",
       "    .dataframe tbody tr th {\n",
       "        vertical-align: top;\n",
       "    }\n",
       "\n",
       "    .dataframe thead th {\n",
       "        text-align: right;\n",
       "    }\n",
       "</style>\n",
       "<table border=\"1\" class=\"dataframe\">\n",
       "  <thead>\n",
       "    <tr style=\"text-align: right;\">\n",
       "      <th></th>\n",
       "      <th>ts_code</th>\n",
       "      <th>symbol</th>\n",
       "      <th>name</th>\n",
       "      <th>area</th>\n",
       "      <th>industry</th>\n",
       "      <th>market</th>\n",
       "      <th>list_date</th>\n",
       "    </tr>\n",
       "  </thead>\n",
       "  <tbody>\n",
       "    <tr>\n",
       "      <th>0</th>\n",
       "      <td>000001.SZ</td>\n",
       "      <td>000001</td>\n",
       "      <td>平安银行</td>\n",
       "      <td>深圳</td>\n",
       "      <td>银行</td>\n",
       "      <td>主板</td>\n",
       "      <td>19910403</td>\n",
       "    </tr>\n",
       "    <tr>\n",
       "      <th>1</th>\n",
       "      <td>000002.SZ</td>\n",
       "      <td>000002</td>\n",
       "      <td>万科A</td>\n",
       "      <td>深圳</td>\n",
       "      <td>全国地产</td>\n",
       "      <td>主板</td>\n",
       "      <td>19910129</td>\n",
       "    </tr>\n",
       "    <tr>\n",
       "      <th>2</th>\n",
       "      <td>000004.SZ</td>\n",
       "      <td>000004</td>\n",
       "      <td>国华网安</td>\n",
       "      <td>深圳</td>\n",
       "      <td>软件服务</td>\n",
       "      <td>主板</td>\n",
       "      <td>19910114</td>\n",
       "    </tr>\n",
       "    <tr>\n",
       "      <th>3</th>\n",
       "      <td>000005.SZ</td>\n",
       "      <td>000005</td>\n",
       "      <td>ST星源</td>\n",
       "      <td>深圳</td>\n",
       "      <td>环境保护</td>\n",
       "      <td>主板</td>\n",
       "      <td>19901210</td>\n",
       "    </tr>\n",
       "    <tr>\n",
       "      <th>4</th>\n",
       "      <td>000006.SZ</td>\n",
       "      <td>000006</td>\n",
       "      <td>深振业A</td>\n",
       "      <td>深圳</td>\n",
       "      <td>区域地产</td>\n",
       "      <td>主板</td>\n",
       "      <td>19920427</td>\n",
       "    </tr>\n",
       "  </tbody>\n",
       "</table>\n",
       "</div>"
      ],
      "text/plain": [
       "     ts_code  symbol  name area industry market list_date\n",
       "0  000001.SZ  000001  平安银行   深圳       银行     主板  19910403\n",
       "1  000002.SZ  000002   万科A   深圳     全国地产     主板  19910129\n",
       "2  000004.SZ  000004  国华网安   深圳     软件服务     主板  19910114\n",
       "3  000005.SZ  000005  ST星源   深圳     环境保护     主板  19901210\n",
       "4  000006.SZ  000006  深振业A   深圳     区域地产     主板  19920427"
      ]
     },
     "execution_count": 10,
     "metadata": {},
     "output_type": "execute_result"
    }
   ],
   "source": [
    "pro.stock_basic(exchange_id='SSE').head()"
   ]
  },
  {
   "cell_type": "markdown",
   "metadata": {},
   "source": [
    "获取行情数据"
   ]
  },
  {
   "cell_type": "code",
   "execution_count": 13,
   "metadata": {},
   "outputs": [
    {
     "data": {
      "text/html": [
       "<div>\n",
       "<style scoped>\n",
       "    .dataframe tbody tr th:only-of-type {\n",
       "        vertical-align: middle;\n",
       "    }\n",
       "\n",
       "    .dataframe tbody tr th {\n",
       "        vertical-align: top;\n",
       "    }\n",
       "\n",
       "    .dataframe thead th {\n",
       "        text-align: right;\n",
       "    }\n",
       "</style>\n",
       "<table border=\"1\" class=\"dataframe\">\n",
       "  <thead>\n",
       "    <tr style=\"text-align: right;\">\n",
       "      <th></th>\n",
       "      <th>ts_code</th>\n",
       "      <th>trade_date</th>\n",
       "      <th>open</th>\n",
       "      <th>high</th>\n",
       "      <th>low</th>\n",
       "      <th>close</th>\n",
       "      <th>pre_close</th>\n",
       "      <th>change</th>\n",
       "      <th>pct_chg</th>\n",
       "      <th>vol</th>\n",
       "      <th>amount</th>\n",
       "    </tr>\n",
       "  </thead>\n",
       "  <tbody>\n",
       "    <tr>\n",
       "      <th>0</th>\n",
       "      <td>000001.SZ</td>\n",
       "      <td>20240227</td>\n",
       "      <td>10.49</td>\n",
       "      <td>10.60</td>\n",
       "      <td>10.46</td>\n",
       "      <td>10.50</td>\n",
       "      <td>10.53</td>\n",
       "      <td>-0.03</td>\n",
       "      <td>-0.2849</td>\n",
       "      <td>1981904.92</td>\n",
       "      <td>2083027.074</td>\n",
       "    </tr>\n",
       "    <tr>\n",
       "      <th>1</th>\n",
       "      <td>000001.SZ</td>\n",
       "      <td>20240226</td>\n",
       "      <td>10.78</td>\n",
       "      <td>10.88</td>\n",
       "      <td>10.50</td>\n",
       "      <td>10.53</td>\n",
       "      <td>10.85</td>\n",
       "      <td>-0.32</td>\n",
       "      <td>-2.9493</td>\n",
       "      <td>2862608.88</td>\n",
       "      <td>3048205.025</td>\n",
       "    </tr>\n",
       "    <tr>\n",
       "      <th>2</th>\n",
       "      <td>000001.SZ</td>\n",
       "      <td>20240223</td>\n",
       "      <td>10.88</td>\n",
       "      <td>11.24</td>\n",
       "      <td>10.84</td>\n",
       "      <td>10.85</td>\n",
       "      <td>10.90</td>\n",
       "      <td>-0.05</td>\n",
       "      <td>-0.4587</td>\n",
       "      <td>3567479.50</td>\n",
       "      <td>3917316.282</td>\n",
       "    </tr>\n",
       "    <tr>\n",
       "      <th>3</th>\n",
       "      <td>000001.SZ</td>\n",
       "      <td>20240222</td>\n",
       "      <td>10.65</td>\n",
       "      <td>10.91</td>\n",
       "      <td>10.62</td>\n",
       "      <td>10.90</td>\n",
       "      <td>10.80</td>\n",
       "      <td>0.10</td>\n",
       "      <td>0.9259</td>\n",
       "      <td>4922325.12</td>\n",
       "      <td>5307736.374</td>\n",
       "    </tr>\n",
       "    <tr>\n",
       "      <th>4</th>\n",
       "      <td>000001.SZ</td>\n",
       "      <td>20240221</td>\n",
       "      <td>9.78</td>\n",
       "      <td>10.80</td>\n",
       "      <td>9.77</td>\n",
       "      <td>10.80</td>\n",
       "      <td>9.82</td>\n",
       "      <td>0.98</td>\n",
       "      <td>9.9796</td>\n",
       "      <td>5055284.60</td>\n",
       "      <td>5295259.397</td>\n",
       "    </tr>\n",
       "    <tr>\n",
       "      <th>5</th>\n",
       "      <td>000001.SZ</td>\n",
       "      <td>20240220</td>\n",
       "      <td>9.79</td>\n",
       "      <td>9.84</td>\n",
       "      <td>9.73</td>\n",
       "      <td>9.82</td>\n",
       "      <td>9.81</td>\n",
       "      <td>0.01</td>\n",
       "      <td>0.1019</td>\n",
       "      <td>1123563.98</td>\n",
       "      <td>1098987.813</td>\n",
       "    </tr>\n",
       "  </tbody>\n",
       "</table>\n",
       "</div>"
      ],
      "text/plain": [
       "     ts_code trade_date   open   high    low  close  pre_close  change  \\\n",
       "0  000001.SZ   20240227  10.49  10.60  10.46  10.50      10.53   -0.03   \n",
       "1  000001.SZ   20240226  10.78  10.88  10.50  10.53      10.85   -0.32   \n",
       "2  000001.SZ   20240223  10.88  11.24  10.84  10.85      10.90   -0.05   \n",
       "3  000001.SZ   20240222  10.65  10.91  10.62  10.90      10.80    0.10   \n",
       "4  000001.SZ   20240221   9.78  10.80   9.77  10.80       9.82    0.98   \n",
       "5  000001.SZ   20240220   9.79   9.84   9.73   9.82       9.81    0.01   \n",
       "\n",
       "   pct_chg         vol       amount  \n",
       "0  -0.2849  1981904.92  2083027.074  \n",
       "1  -2.9493  2862608.88  3048205.025  \n",
       "2  -0.4587  3567479.50  3917316.282  \n",
       "3   0.9259  4922325.12  5307736.374  \n",
       "4   9.9796  5055284.60  5295259.397  \n",
       "5   0.1019  1123563.98  1098987.813  "
      ]
     },
     "execution_count": 13,
     "metadata": {},
     "output_type": "execute_result"
    }
   ],
   "source": [
    "df = pro.daily(ts_code='000001.SZ', start_date='20240220', end_date='20240227')\n",
    "df"
   ]
  },
  {
   "cell_type": "code",
   "execution_count": 12,
   "metadata": {
    "collapsed": true
   },
   "outputs": [],
   "source": [
    "df.to_csv('平安银行.csv')"
   ]
  }
 ],
 "metadata": {
  "kernelspec": {
   "display_name": "Python 3",
   "language": "python",
   "name": "python3"
  },
  "language_info": {
   "codemirror_mode": {
    "name": "ipython",
    "version": 3
   },
   "file_extension": ".py",
   "mimetype": "text/x-python",
   "name": "python",
   "nbconvert_exporter": "python",
   "pygments_lexer": "ipython3",
   "version": "3.7.0"
  }
 },
 "nbformat": 4,
 "nbformat_minor": 2
}
