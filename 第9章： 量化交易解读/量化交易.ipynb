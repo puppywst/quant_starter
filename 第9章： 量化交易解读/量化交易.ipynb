{
 "cells": [
  {
   "cell_type": "markdown",
   "metadata": {},
   "source": [
    "## 量化交易"
   ]
  },
  {
   "cell_type": "markdown",
   "metadata": {},
   "source": [
    "![title](./img/2.png)"
   ]
  },
  {
   "cell_type": "markdown",
   "metadata": {},
   "source": [
    "### 啥是量化交易呢？\n",
    "- 其实就是让计算机帮我们分析策略！\n",
    "- 并不单单是预测股价的涨跌，只要能赚钱就是好策略！怎样选中相对收益最大的股票会更重要！"
   ]
  },
  {
   "cell_type": "markdown",
   "metadata": {},
   "source": [
    "### 都需要啥工具呢？\n",
    "- 机器学习，统计方法，Python，各种实用工具和算法都可以上！"
   ]
  },
  {
   "cell_type": "markdown",
   "metadata": {},
   "source": [
    "### 要掌握哪些技能呢？\n",
    "\n",
    "- 常用机器学习算法：回归，分类，聚类，其实更重要的是特征工程，难就难在数据了！\n",
    "- 统计分析方法：数学模型非常重要，所以量化公司更喜欢招计算机出身的！\n",
    "- 回测框架(平台)使用方法：框架和平台其实都是工具，熟悉使用方法即可，为策略服务的！\n",
    "- 策略算法：咱们会讲一些经典的，包括算法原理和Python实践案例！"
   ]
  },
  {
   "cell_type": "markdown",
   "metadata": {},
   "source": [
    "### 期货和股票\n",
    "\n",
    "- 股票：适合做数据挖掘，对数据有信心！\n",
    "- 期货：适合对市面非常了解，有主观判断力！"
   ]
  },
  {
   "cell_type": "markdown",
   "metadata": {},
   "source": [
    "### 量化交易要挖掘什么\n",
    "- 基于历史数据进行模拟交易，研究分析策略对结果的影响。\n"
   ]
  },
  {
   "cell_type": "markdown",
   "metadata": {},
   "source": [
    "![title](./img/1.png)"
   ]
  },
  {
   "cell_type": "code",
   "execution_count": null,
   "metadata": {
    "collapsed": true
   },
   "outputs": [],
   "source": []
  }
 ],
 "metadata": {
  "kernelspec": {
   "display_name": "Python 3",
   "language": "python",
   "name": "python3"
  },
  "language_info": {
   "codemirror_mode": {
    "name": "ipython",
    "version": 3
   },
   "file_extension": ".py",
   "mimetype": "text/x-python",
   "name": "python",
   "nbconvert_exporter": "python",
   "pygments_lexer": "ipython3",
   "version": "3.6.3"
  }
 },
 "nbformat": 4,
 "nbformat_minor": 2
}
